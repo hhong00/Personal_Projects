{
 "cells": [
  {
   "cell_type": "code",
   "execution_count": 34,
   "metadata": {},
   "outputs": [],
   "source": [
    "\n",
    "import numpy as np\n",
    "from scipy.stats import triang\n",
    "import matplotlib.pyplot as plt\n",
    "import math\n",
    "\n",
    "# recursive algorithm to find the time to complete an individual task. \n",
    "def findTime(name):\n",
    "    if not len(predecessDict[name]):\n",
    "        return 0 + indivTimes[name]\n",
    "    intermedTimes = []\n",
    "    for val in predecessDict[name]:\n",
    "        intermedTimes.append(findTime(val) + indivTimes[name])\n",
    "    return max(intermedTimes)\n",
    "\n",
    "# lists to list direct predecessors for each task\n",
    "aPredecess = []\n",
    "bPredecess = [\"A\"]\n",
    "cPredecess = [\"A\"]\n",
    "dPredecess = [\"C\"]\n",
    "ePredecess = [\"A\"]\n",
    "fPredecess = [\"B\"]\n",
    "gPredecess = [\"C\"]\n",
    "hPredecess = [\"C\"]\n",
    "iPredecess = [\"F\", \"H\"]\n",
    "jPredecess = [\"I\", \"G\"]\n",
    "predecessDict = {\"A\": aPredecess, \"B\": bPredecess, \"C\": cPredecess, \"D\": dPredecess, \"E\": ePredecess, \"F\": fPredecess, \"G\": gPredecess, \"H\": hPredecess, \"I\": iPredecess, \"J\": jPredecess}\n",
    "\n",
    "# list of all the task names\n",
    "taskList = [\"A\", \"B\", \"C\", \"D\", \"E\", \"F\", \"G\", \"H\", \"I\", \"J\"]\n",
    "\n",
    "# list with each trial's total time to complete all tasks\n",
    "trialTimes = []\n",
    "# sample mean\n",
    "sampleMean = 0\n",
    "# number of trials\n",
    "numTrials = 1000\n",
    "\n",
    "# create numTrial values depending on parameters for each tasks time to complete. \n",
    "tA = triang.rvs(0.5, 2, 2, numTrials)\n",
    "tB = triang.rvs(0.5, 1, 2, numTrials)\n",
    "tC = triang.rvs(0.5, 2, 8, numTrials)\n",
    "tD = triang.rvs(0.5, 1, 2, numTrials)\n",
    "tE = triang.rvs(0.5, 1, 4, numTrials)\n",
    "tF = triang.rvs(0.5, 2, 2, numTrials)\n",
    "tG = triang.rvs(0.5, 3, 4, numTrials)\n",
    "tH = triang.rvs(0.5, 0.5, 1, numTrials)\n",
    "tI = triang.rvs(0.5, 1, 1, numTrials)\n",
    "tJ = triang.rvs(0.5, 1, 2, numTrials)\n",
    "\n",
    "# value for when one needs to find probability will finish before 'targetTime' days. needs to be changed so user can input. Basically, this is for P(X < targetTime)\n",
    "targetTime = 18\n",
    "pHat = 0\n",
    "\n",
    "# runs the findTime function on all tasks for x number of trials and puts result in trialTimes list\n",
    "for x in range(numTrials):\n",
    "    # time to complete individual task\n",
    "    indivTimes = {\"A\": tA[x], \"B\": tB[x], \"C\": tC[x], \"D\": tD[x], \"E\": tE[x], \"F\": tF[x], \"G\": tG[x], \"H\": tH[x], \"I\": tI[x], \"J\": tJ[x]}\n",
    "    # time to complete task and all prerequisites\n",
    "    totalTime = {}\n",
    "\n",
    "    for val in taskList:\n",
    "        totalTime[val] = findTime(val)\n",
    "\n",
    "    thisCompletionTime = totalTime[max(totalTime)]\n",
    "    trialTimes.append(thisCompletionTime)\n",
    "    sampleMean += thisCompletionTime/numTrials\n",
    "\n",
    "    if thisCompletionTime < targetTime:\n",
    "        pHat += 1/numTrials"
   ]
  },
  {
   "cell_type": "code",
   "execution_count": 35,
   "metadata": {},
   "outputs": [
    {
     "data": {
      "image/png": "[encoded data removed]",
      "text/plain": [
       "<Figure size 720x504 with 1 Axes>"
      ]
     },
     "metadata": {
      "needs_background": "light"
     },
     "output_type": "display_data"
    },
    {
     "name": "stdout",
     "output_type": "stream",
     "text": [
      "Average Time to Complete all Tasks: 16.01454088758304\n",
      "Based on this sample, the probability that all tasks finished before 18 days is 0.8420000000000006\n",
      "Sample Variance is 3.6300164407456004\n",
      "Standard Deviation is 1.9052602028976515\n",
      "95 percent confident that true mean lies between 15.896451636764988 and 16.132630138401087\n",
      "95 percent confident that true probability all tasks finished before 18 is between 0.8193818064319838 and 0.8646181935680175\n"
     ]
    }
   ],
   "source": [
    "# rudimentary histogram to show results of trials\n",
    "x = np.array(trialTimes)\n",
    "fig, ax = plt.subplots(figsize =(10, 7))\n",
    "ax.hist(x)\n",
    "plt.show()\n",
    "\n",
    "# sample variance\n",
    "sampleVariance = 0\n",
    "for time in trialTimes:\n",
    "    sampleVariance += pow(time - sampleMean, 2)/(numTrials-1)\n",
    "standardDev = math.sqrt(sampleVariance)\n",
    "\n",
    "# zScore for 95% confidence interval for finish time\n",
    "zScore = 1.96\n",
    "confIntLowMean = sampleMean - (zScore*standardDev/math.sqrt(numTrials))\n",
    "confIntHighMean = sampleMean + (zScore*standardDev/math.sqrt(numTrials))\n",
    "\n",
    "# 95% confidence interval for probability finish by targetTime\n",
    "confIntLowProb = pHat - zScore*(math.sqrt((pHat * (1-pHat))/(numTrials-1)))\n",
    "confIntHighProb = pHat + zScore*(math.sqrt((pHat * (1-pHat))/(numTrials-1)))\n",
    "\n",
    "# prints average time to complete all tasks\n",
    "print(\"Average Time to Complete all Tasks: \" + str(sampleMean))\n",
    "# prints P(X < targetTime) where X represent time to finish all tasks\n",
    "print(\"Based on this sample, the probability that all tasks finished before \" + str(targetTime) + \" days is \" + str(pHat))\n",
    "print(\"Sample Variance is \" + str(sampleVariance))\n",
    "print(\"Standard Deviation is \" + str(standardDev))\n",
    "print(\"95 percent confident that true mean lies between \" + str(confIntLowMean) + \" and \" + str(confIntHighMean))\n",
    "print(\"95 percent confident that true probability all tasks finished before \" + str(targetTime) + \" is between \" + str(confIntLowProb) + \" and \" + str(confIntHighProb))\n",
    "\n"
   ]
  },
  {
   "cell_type": "code",
   "execution_count": null,
   "metadata": {},
   "outputs": [],
   "source": [
    "\n",
    "# will try my DiGraph implementation here later after first doing a recursive implementation attempt\n",
    "\n",
    "graph = nx.DiGraph()"
   ]
  }
 ],
 "metadata": {
  "interpreter": {
   "hash": "301daf1a66123f95d17c00e915913979f1b5c81ca904a5a830b49c41035d1a04"
  },
  "kernelspec": {
   "display_name": "Python 3.10.4 64-bit",
   "language": "python",
   "name": "python3"
  },
  "language_info": {
   "codemirror_mode": {
    "name": "ipython",
    "version": 3
   },
   "file_extension": ".py",
   "mimetype": "text/x-python",
   "name": "python",
   "nbconvert_exporter": "python",
   "pygments_lexer": "ipython3",
   "version": "3.10.4"
  },
  "orig_nbformat": 4
 },
 "nbformat": 4,
 "nbformat_minor": 2
}
