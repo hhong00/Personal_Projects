{
 "cells": [
  {
   "cell_type": "code",
   "execution_count": 90,
   "metadata": {},
   "outputs": [],
   "source": [
    "\n",
    "import numpy as np\n",
    "from scipy.stats import triang\n",
    "import matplotlib.pyplot as plt\n",
    "\n",
    "\n",
    "#fig = plt.subplots(1, 1)\n",
    "\n",
    "# created 1000 random values for time to complete each task (A-J) based on project details\n",
    "tA = triang.rvs(0.5, 2, 2)\n",
    "tB = triang.rvs(0.5, 1, 2)\n",
    "tC = triang.rvs(0.5, 2, 8)\n",
    "tD = triang.rvs(0.5, 1, 2)\n",
    "tE = triang.rvs(0.5, 1, 4)\n",
    "tF = triang.rvs(0.5, 2, 2)\n",
    "tG = triang.rvs(0.5, 3, 4)\n",
    "tH = triang.rvs(0.5, 0.5, 1)\n",
    "tI = triang.rvs(0.5, 1, 1)\n",
    "tJ = triang.rvs(0.5, 1, 2)\n",
    "\n",
    "aPredecess = []\n",
    "bPredecess = [\"A\"]\n",
    "cPredecess = [\"A\"]\n",
    "dPredecess = [\"C\"]\n",
    "ePredecess = [\"A\"]\n",
    "fPredecess = [\"B\"]\n",
    "gPredecess = [\"C\"]\n",
    "hPredecess = [\"C\"]\n",
    "iPredecess = [\"F\", \"H\"]\n",
    "jPredecess = [\"I\", \"G\"]\n",
    "\n",
    "indivTimes = {\"A\": tA, \"B\": tB, \"C\": tC, \"D\": tD, \"E\": tE, \"F\": tF, \"G\": tG, \"H\": tH, \"I\": tI, \"J\": tJ}\n",
    "\n",
    "taskList = [\"A\", \"B\", \"C\", \"D\", \"E\", \"F\", \"G\", \"H\", \"I\", \"J\"]\n",
    "totalTime = {}\n",
    "\n",
    "predecessDict = {\"A\": aPredecess, \"B\": bPredecess, \"C\": cPredecess, \"D\": dPredecess, \"E\": ePredecess, \"F\": fPredecess, \"G\": gPredecess, \"H\": hPredecess, \"I\": iPredecess, \"J\": jPredecess}\n",
    "\n",
    "def findTime(name):\n",
    "    if not len(predecessDict[name]):\n",
    "        return 0 + indivTimes[name]\n",
    "    intermedTimes = []\n",
    "    for val in predecessDict[name]:\n",
    "        intermedTimes.append(findTime(val) + indivTimes[name])\n",
    "    return max(intermedTimes)\n",
    "\n",
    "for val in taskList:\n",
    "    totalTime[val] = findTime(val)\n",
    "\n"
   ]
  },
  {
   "cell_type": "code",
   "execution_count": null,
   "metadata": {},
   "outputs": [],
   "source": [
    "\n",
    "# will try my DiGraph implementation here later after first doing a recursive implementation attempt\n",
    "\n",
    "graph = nx.DiGraph()"
   ]
  }
 ],
 "metadata": {
  "interpreter": {
   "hash": "301daf1a66123f95d17c00e915913979f1b5c81ca904a5a830b49c41035d1a04"
  },
  "kernelspec": {
   "display_name": "Python 3.10.4 64-bit",
   "language": "python",
   "name": "python3"
  },
  "language_info": {
   "codemirror_mode": {
    "name": "ipython",
    "version": 3
   },
   "file_extension": ".py",
   "mimetype": "text/x-python",
   "name": "python",
   "nbconvert_exporter": "python",
   "pygments_lexer": "ipython3",
   "version": "3.10.4"
  },
  "orig_nbformat": 4
 },
 "nbformat": 4,
 "nbformat_minor": 2
}
