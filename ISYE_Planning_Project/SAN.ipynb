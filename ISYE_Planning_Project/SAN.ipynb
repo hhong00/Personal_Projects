{
 "cells": [
  {
   "cell_type": "code",
   "execution_count": 13,
   "metadata": {},
   "outputs": [],
   "source": [
    "\n",
    "import numpy as np\n",
    "from scipy.stats import triang\n",
    "import matplotlib.pyplot as plt\n",
    "\n",
    "# recursive algorithm to find the time to complete an individual task. \n",
    "def findTime(name):\n",
    "    if not len(predecessDict[name]):\n",
    "        return 0 + indivTimes[name]\n",
    "    intermedTimes = []\n",
    "    for val in predecessDict[name]:\n",
    "        intermedTimes.append(findTime(val) + indivTimes[name])\n",
    "    return max(intermedTimes)\n",
    "\n",
    "# arrays to list direct predecessors for each task\n",
    "aPredecess = []\n",
    "bPredecess = [\"A\"]\n",
    "cPredecess = [\"A\"]\n",
    "dPredecess = [\"C\"]\n",
    "ePredecess = [\"A\"]\n",
    "fPredecess = [\"B\"]\n",
    "gPredecess = [\"C\"]\n",
    "hPredecess = [\"C\"]\n",
    "iPredecess = [\"F\", \"H\"]\n",
    "jPredecess = [\"I\", \"G\"]\n",
    "predecessDict = {\"A\": aPredecess, \"B\": bPredecess, \"C\": cPredecess, \"D\": dPredecess, \"E\": ePredecess, \"F\": fPredecess, \"G\": gPredecess, \"H\": hPredecess, \"I\": iPredecess, \"J\": jPredecess}\n",
    "\n",
    "# array of all the task names\n",
    "taskList = [\"A\", \"B\", \"C\", \"D\", \"E\", \"F\", \"G\", \"H\", \"I\", \"J\"]\n",
    "\n",
    "# array with each trial's total time to complete all tasks\n",
    "trialTimes = []\n",
    "# sum counter which will be divided by total trials later to get average time to complete all tasks\n",
    "avg = 0\n",
    "\n",
    "# create 1000 values depending on parameters for each tasks time to complete. \n",
    "tA = triang.rvs(0.5, 2, 2, 1000)\n",
    "tB = triang.rvs(0.5, 1, 2, 1000)\n",
    "tC = triang.rvs(0.5, 2, 8, 1000)\n",
    "tD = triang.rvs(0.5, 1, 2, 1000)\n",
    "tE = triang.rvs(0.5, 1, 4, 1000)\n",
    "tF = triang.rvs(0.5, 2, 2, 1000)\n",
    "tG = triang.rvs(0.5, 3, 4, 1000)\n",
    "tH = triang.rvs(0.5, 0.5, 1, 1000)\n",
    "tI = triang.rvs(0.5, 1, 1, 1000)\n",
    "tJ = triang.rvs(0.5, 1, 2, 1000)\n",
    "\n",
    "# value for when one needs to find probability will finish before 'targetVal' days. needs to be changed so user can input. Basically, this is for P(X < targetVal)\n",
    "targetVal = 0\n",
    "probLessThanTarget = 0\n",
    "\n",
    "# runs the findTime function on all tasks for x number of trials and puts result in trialTimes array\n",
    "for x in range(1000):\n",
    "    # time to complete individual task\n",
    "    indivTimes = {\"A\": tA[x], \"B\": tB[x], \"C\": tC[x], \"D\": tD[x], \"E\": tE[x], \"F\": tF[x], \"G\": tG[x], \"H\": tH[x], \"I\": tI[x], \"J\": tJ[x]}\n",
    "    # time to complete task and all prerequisites\n",
    "    totalTime = {}\n",
    "\n",
    "    for val in taskList:\n",
    "        totalTime[val] = findTime(val)\n",
    "\n",
    "    thisCompletionTime = totalTime[max(totalTime)]\n",
    "    trialTimes.append(thisCompletionTime)\n",
    "    avg += thisCompletionTime/1000\n",
    "\n",
    "    if thisCompletionTime < targetVal:\n",
    "        probLessThanTarget += 1/1000\n",
    "    \n",
    "    \n"
   ]
  },
  {
   "cell_type": "code",
   "execution_count": 14,
   "metadata": {},
   "outputs": [
    {
     "data": {
      "image/png": "[encoded data removed]",
      "text/plain": [
       "<Figure size 720x504 with 1 Axes>"
      ]
     },
     "metadata": {
      "needs_background": "light"
     },
     "output_type": "display_data"
    },
    {
     "name": "stdout",
     "output_type": "stream",
     "text": [
      "Average Time to Complete all Tasks: 16.012632188888734\n",
      "Probability that all tasks finished before 0 days is 0\n"
     ]
    }
   ],
   "source": [
    "# rudimentary histogram to show results of trials\n",
    "x = np.array(trialTimes)\n",
    "fig, ax = plt.subplots(figsize =(10, 7))\n",
    "ax.hist(x)\n",
    "plt.show()\n",
    "\n",
    "# prints average time to complete all tasks\n",
    "print(\"Average Time to Complete all Tasks: \" + str(avg))\n",
    "# prints P(X < targetVal) where X represent time to finish all tasks\n",
    "print(\"Probability that all tasks finished before \" + str(targetVal) + \" days is \" + str(probLessThanTarget))\n",
    "\n"
   ]
  },
  {
   "cell_type": "code",
   "execution_count": null,
   "metadata": {},
   "outputs": [],
   "source": [
    "\n",
    "# will try my DiGraph implementation here later after first doing a recursive implementation attempt\n",
    "\n",
    "graph = nx.DiGraph()"
   ]
  }
 ],
 "metadata": {
  "interpreter": {
   "hash": "301daf1a66123f95d17c00e915913979f1b5c81ca904a5a830b49c41035d1a04"
  },
  "kernelspec": {
   "display_name": "Python 3.10.4 64-bit",
   "language": "python",
   "name": "python3"
  },
  "language_info": {
   "codemirror_mode": {
    "name": "ipython",
    "version": 3
   },
   "file_extension": ".py",
   "mimetype": "text/x-python",
   "name": "python",
   "nbconvert_exporter": "python",
   "pygments_lexer": "ipython3",
   "version": "3.10.4"
  },
  "orig_nbformat": 4
 },
 "nbformat": 4,
 "nbformat_minor": 2
}
